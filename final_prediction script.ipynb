{
 "cells": [
  {
   "cell_type": "code",
   "execution_count": 19,
   "metadata": {},
   "outputs": [],
   "source": [
    "import pandas as pd \n",
    "import numpy as np \n",
    "import os \n",
    "import pickle\n",
    "import joblib\n",
    "import tkinter as tk\n",
    "from tkinter import filedialog\n",
    "import re\n",
    "import json"
   ]
  },
  {
   "cell_type": "code",
   "execution_count": 20,
   "metadata": {},
   "outputs": [
    {
     "name": "stdout",
     "output_type": "stream",
     "text": [
      "C:/Users/gouda/Desktop/Mr. Videep Singhal/DATA/4col100_9_1.shuffled.csv\n"
     ]
    },
    {
     "name": "stderr",
     "output_type": "stream",
     "text": [
      "c:\\Users\\gouda\\myenv\\lib\\site-packages\\pandas\\util\\_decorators.py:311: ParserWarning: Falling back to the 'python' engine because the 'c' engine does not support regex separators (separators > 1 char and different from '\\s+' are interpreted as regex); you can avoid this warning by specifying engine='python'.\n",
      "  return func(*args, **kwargs)\n"
     ]
    }
   ],
   "source": [
    "filetypes = (\n",
    "    ('Text files', '*.csv'),\n",
    "    ('All files', '*.*'),\n",
    ")\n",
    "root = tk.Tk()\n",
    "filename = tk.filedialog.askopenfilename(\n",
    "    title='Select a file...',\n",
    "    filetypes=filetypes,\n",
    ")\n",
    "root.destroy()\n",
    "print(filename)\n",
    "df = pd.read_csv(filename, sep='delimiter', header=None)\n",
    "try:\n",
    "    time_str = df.at[df.shape[0]-2,0]\n",
    "    time = float(re.findall(r\"[-+]?\\d*\\.\\d+|\\d+\", time_str)[0])\n",
    "except:\n",
    "    print('cpu time not found')\n",
    "df = df[11:-9]\n",
    "data = df[0].tolist()\n",
    "res = json.loads(df.at[11,0])\n",
    "df1 = pd.DataFrame([res])\n",
    "for i in range(1,len(df)):\n",
    "    df2 = pd.DataFrame([json.loads(data[i])])\n",
    "    df1 = pd.concat([df1, df2], ignore_index = True, axis = 0)\n",
    "data = {\n",
    "    'Time':df1['Time'].max(),\n",
    "    'AdjustCount':df1['AdjustCount'].mean(),\n",
    "    'AdjustCount_std':df1['AdjustCount'].median(),\n",
    "    'Restarts': df1['Restarts'].mean(),\n",
    "    'Restarts_std':df1['Restarts'].std(),\n",
    "    'Conflicts':df1['Conflicts'].mean(),\n",
    "    'Conflicts_std':df1['Conflicts'].std(),\n",
    "    'Decisions':df1['Decisions'].mean(),\n",
    "    'Decisions_std':df1['Decisions'].std(),\n",
    "    'Propagations':df1['Propagations'].mean(),\n",
    "    'Propagations_std':df1['Propagations'].std(),\n",
    "    'Vars':df1['Vars'].mean(),\n",
    "    'Clauses':df1['Clauses'].mean(),\n",
    "    'Literals':df1['Literals'].mean(),\n",
    "    'LEARNT_Limit':df1['LEARNT_Limit'].mean(),\n",
    "    'LEARNT_Limit_std':df1['LEARNT_Limit'].std(),\n",
    "    'LEARNT_Clauses':df1['LEARNT_Clauses'].mean(),\n",
    "    'LEARNT_Clauses_std':df1['LEARNT_Clauses'].std(),\n",
    "    'LEARNT_Lit/Cl':df1['LEARNT_Lit/Cl'].mean(),\n",
    "    'LEARNT_Lit/Cl_std':df1['LEARNT_Lit/Cl'].std(),\n",
    "    'Progress':df1['Progress'].mean(),\n",
    "    # 'timecpu':df1['timecpu'].mean()\n",
    "\n",
    "\n",
    "}\n",
    "df1 = pd.DataFrame([data])"
   ]
  },
  {
   "cell_type": "code",
   "execution_count": 21,
   "metadata": {},
   "outputs": [
    {
     "data": {
      "text/html": [
       "<div>\n",
       "<style scoped>\n",
       "    .dataframe tbody tr th:only-of-type {\n",
       "        vertical-align: middle;\n",
       "    }\n",
       "\n",
       "    .dataframe tbody tr th {\n",
       "        vertical-align: top;\n",
       "    }\n",
       "\n",
       "    .dataframe thead th {\n",
       "        text-align: right;\n",
       "    }\n",
       "</style>\n",
       "<table border=\"1\" class=\"dataframe\">\n",
       "  <thead>\n",
       "    <tr style=\"text-align: right;\">\n",
       "      <th></th>\n",
       "      <th>Time</th>\n",
       "      <th>AdjustCount</th>\n",
       "      <th>AdjustCount_std</th>\n",
       "      <th>Restarts</th>\n",
       "      <th>Restarts_std</th>\n",
       "      <th>Conflicts</th>\n",
       "      <th>Conflicts_std</th>\n",
       "      <th>Decisions</th>\n",
       "      <th>Decisions_std</th>\n",
       "      <th>Propagations</th>\n",
       "      <th>Propagations_std</th>\n",
       "      <th>Vars</th>\n",
       "      <th>Clauses</th>\n",
       "      <th>Literals</th>\n",
       "      <th>LEARNT_Limit</th>\n",
       "      <th>LEARNT_Limit_std</th>\n",
       "      <th>LEARNT_Clauses</th>\n",
       "      <th>LEARNT_Clauses_std</th>\n",
       "      <th>LEARNT_Lit/Cl</th>\n",
       "      <th>LEARNT_Lit/Cl_std</th>\n",
       "      <th>Progress</th>\n",
       "    </tr>\n",
       "  </thead>\n",
       "  <tbody>\n",
       "    <tr>\n",
       "      <th>0</th>\n",
       "      <td>26.804</td>\n",
       "      <td>93394.947725</td>\n",
       "      <td>75715.5</td>\n",
       "      <td>1015.969506</td>\n",
       "      <td>594.007034</td>\n",
       "      <td>459247.348015</td>\n",
       "      <td>288283.19884</td>\n",
       "      <td>764588.613746</td>\n",
       "      <td>444831.870032</td>\n",
       "      <td>1.312139e+07</td>\n",
       "      <td>8.536201e+06</td>\n",
       "      <td>193.005808</td>\n",
       "      <td>1709.091481</td>\n",
       "      <td>6814.352372</td>\n",
       "      <td>3163.329138</td>\n",
       "      <td>714.257417</td>\n",
       "      <td>2379.781704</td>\n",
       "      <td>726.169605</td>\n",
       "      <td>8.410939</td>\n",
       "      <td>1.028437</td>\n",
       "      <td>3.50073</td>\n",
       "    </tr>\n",
       "  </tbody>\n",
       "</table>\n",
       "</div>"
      ],
      "text/plain": [
       "     Time   AdjustCount  AdjustCount_std     Restarts  Restarts_std  \\\n",
       "0  26.804  93394.947725          75715.5  1015.969506    594.007034   \n",
       "\n",
       "       Conflicts  Conflicts_std      Decisions  Decisions_std  Propagations  \\\n",
       "0  459247.348015   288283.19884  764588.613746  444831.870032  1.312139e+07   \n",
       "\n",
       "   Propagations_std        Vars      Clauses     Literals  LEARNT_Limit  \\\n",
       "0      8.536201e+06  193.005808  1709.091481  6814.352372   3163.329138   \n",
       "\n",
       "   LEARNT_Limit_std  LEARNT_Clauses  LEARNT_Clauses_std  LEARNT_Lit/Cl  \\\n",
       "0        714.257417     2379.781704          726.169605       8.410939   \n",
       "\n",
       "   LEARNT_Lit/Cl_std  Progress  \n",
       "0           1.028437   3.50073  "
      ]
     },
     "execution_count": 21,
     "metadata": {},
     "output_type": "execute_result"
    }
   ],
   "source": [
    "df1"
   ]
  },
  {
   "cell_type": "code",
   "execution_count": 22,
   "metadata": {},
   "outputs": [
    {
     "name": "stdout",
     "output_type": "stream",
     "text": [
      "knn_model  is 24.384769439697266\n",
      "decision_model model is 28.630699157714844\n",
      "randomForest_model model is 28.17777572631836\n",
      "linearReg_model model is 27.072568893432617\n"
     ]
    },
    {
     "name": "stderr",
     "output_type": "stream",
     "text": [
      "c:\\Users\\gouda\\myenv\\lib\\site-packages\\pycaret\\internal\\preprocess.py:1721: FutureWarning: The default value of regex will change from True to False in a future version.\n",
      "  data.columns = data.columns.str.replace(r\"[\\,\\}\\{\\]\\[\\:\\\"\\']\", \"\")\n",
      "c:\\Users\\gouda\\myenv\\lib\\site-packages\\pycaret\\internal\\preprocess.py:1721: FutureWarning: The default value of regex will change from True to False in a future version.\n",
      "  data.columns = data.columns.str.replace(r\"[\\,\\}\\{\\]\\[\\:\\\"\\']\", \"\")\n",
      "c:\\Users\\gouda\\myenv\\lib\\site-packages\\pycaret\\internal\\preprocess.py:1721: FutureWarning: The default value of regex will change from True to False in a future version.\n",
      "  data.columns = data.columns.str.replace(r\"[\\,\\}\\{\\]\\[\\:\\\"\\']\", \"\")\n",
      "c:\\Users\\gouda\\myenv\\lib\\site-packages\\pycaret\\internal\\preprocess.py:1721: FutureWarning: The default value of regex will change from True to False in a future version.\n",
      "  data.columns = data.columns.str.replace(r\"[\\,\\}\\{\\]\\[\\:\\\"\\']\", \"\")\n"
     ]
    }
   ],
   "source": [
    "# loaded_model = joblib.load(\"model.pkl\") \n",
    "knn_model = joblib.load(\"knn.pkl\") \n",
    "# lasso_model = joblib.load(\"lasso.pkl\") \n",
    "decision_model = joblib.load(\"decisiontree.pkl\") \n",
    "randomForest_model = joblib.load(\"randomForest.pkl\") \n",
    "linearReg_model = joblib.load(\"linear_reg.pkl\") \n",
    "# print(f'model best model is {loaded_model.predict(df1)[0]}')\n",
    "print(f'knn_model  is {knn_model.predict(df1)[0]}')\n",
    "# print(f'lasso_model model is {lasso_model.predict(df1)[0]}')\n",
    "print(f'decision_model model is {decision_model.predict(df1)[0]}')\n",
    "print(f'randomForest_model model is {randomForest_model.predict(df1)[0]}')\n",
    "print(f'linearReg_model model is {linearReg_model.predict(df1)[0]}')\n",
    "# pred = loaded_model.predict(df1)[0]\n",
    "# pred"
   ]
  },
  {
   "cell_type": "code",
   "execution_count": 23,
   "metadata": {},
   "outputs": [
    {
     "data": {
      "text/plain": [
       "27.3807"
      ]
     },
     "execution_count": 23,
     "metadata": {},
     "output_type": "execute_result"
    }
   ],
   "source": [
    "time"
   ]
  },
  {
   "cell_type": "code",
   "execution_count": 24,
   "metadata": {},
   "outputs": [
    {
     "name": "stdout",
     "output_type": "stream",
     "text": [
      "Real time of csv file is \"27.3807\" and the predicted time model (knn_model) is \"24.385000228881836\"\n",
      "Real time of csv file is \"27.3807\" and the predicted time model (decisiontree_model) is \"28.631\"\n",
      "Real time of csv file is \"27.3807\" and the predicted time from  (randomForest_model) is \"28.178\"\n",
      "Real time of csv file is \"27.3807\" and the predicted time from  (linearReg_model) is \"27.072999954223633\"\n"
     ]
    },
    {
     "name": "stderr",
     "output_type": "stream",
     "text": [
      "c:\\Users\\gouda\\myenv\\lib\\site-packages\\pycaret\\internal\\preprocess.py:1721: FutureWarning: The default value of regex will change from True to False in a future version.\n",
      "  data.columns = data.columns.str.replace(r\"[\\,\\}\\{\\]\\[\\:\\\"\\']\", \"\")\n",
      "c:\\Users\\gouda\\myenv\\lib\\site-packages\\pycaret\\internal\\preprocess.py:1721: FutureWarning: The default value of regex will change from True to False in a future version.\n",
      "  data.columns = data.columns.str.replace(r\"[\\,\\}\\{\\]\\[\\:\\\"\\']\", \"\")\n",
      "c:\\Users\\gouda\\myenv\\lib\\site-packages\\pycaret\\internal\\preprocess.py:1721: FutureWarning: The default value of regex will change from True to False in a future version.\n",
      "  data.columns = data.columns.str.replace(r\"[\\,\\}\\{\\]\\[\\:\\\"\\']\", \"\")\n",
      "c:\\Users\\gouda\\myenv\\lib\\site-packages\\pycaret\\internal\\preprocess.py:1721: FutureWarning: The default value of regex will change from True to False in a future version.\n",
      "  data.columns = data.columns.str.replace(r\"[\\,\\}\\{\\]\\[\\:\\\"\\']\", \"\")\n"
     ]
    }
   ],
   "source": [
    "# print(f'Real time of csv file is \"{time}\" and the predicted time from best model (Orthogonal Matching Pursuit) is \"{round(loaded_model.predict(df1)[0],3)}\"')\n",
    "print(f'Real time of csv file is \"{time}\" and the predicted time model (knn_model) is \"{round(knn_model.predict(df1)[0],3)}\"')\n",
    "# print(f'Real time of csv file is \"{time}\" and the predicted time from(lasso_model) is \"{round(lasso_model.predict(df1)[0],3)}\"')\n",
    "print(f'Real time of csv file is \"{time}\" and the predicted time model (decisiontree_model) is \"{round(decision_model.predict(df1)[0],3)}\"')\n",
    "print(f'Real time of csv file is \"{time}\" and the predicted time from  (randomForest_model) is \"{round(randomForest_model.predict(df1)[0],3)}\"')\n",
    "print(f'Real time of csv file is \"{time}\" and the predicted time from  (linearReg_model) is \"{round(linearReg_model.predict(df1)[0],3)}\"')"
   ]
  },
  {
   "cell_type": "code",
   "execution_count": null,
   "metadata": {},
   "outputs": [],
   "source": []
  }
 ],
 "metadata": {
  "interpreter": {
   "hash": "62a02e2999ee9bd21b187a39ba0aeb0ebf852ef33e030fb90391d0d919624b00"
  },
  "kernelspec": {
   "display_name": "Python 3 (ipykernel)",
   "language": "python",
   "name": "python3"
  },
  "language_info": {
   "codemirror_mode": {
    "name": "ipython",
    "version": 3
   },
   "file_extension": ".py",
   "mimetype": "text/x-python",
   "name": "python",
   "nbconvert_exporter": "python",
   "pygments_lexer": "ipython3",
   "version": "3.8.12"
  }
 },
 "nbformat": 4,
 "nbformat_minor": 2
}
